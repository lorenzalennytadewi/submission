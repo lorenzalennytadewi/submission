{
  "cells": [
    {
      "cell_type": "markdown",
      "metadata": {
        "id": "H9wADwK78DCz"
      },
      "source": [
        "# **Proyek Analisis Data: E-Commerce Public Dataset**\n",
        "- **Nama:** Lorenza Lennyta Dewi\n",
        "- **Email:** lorenzald123@gmail.com\n",
        "- **ID Dicoding:** lorenza_ld"
      ]
    },
    {
      "cell_type": "markdown",
      "metadata": {
        "id": "eE0raob58DC0"
      },
      "source": [
        "## **Menentukan Pertanyaan Bisnis**"
      ]
    },
    {
      "cell_type": "markdown",
      "metadata": {
        "id": "GmQeQ5YF8DC0"
      },
      "source": [
        "- Apa kategori produk yang paling banyak terjual?\n",
        "- Bagaimana korelasi antara waktu pengiriman dan skor ulasan pelanggan?\n",
        "- Negara bagian atau kota mana yang memiliki volume penjualan tertinggi?"
      ]
    },
    {
      "cell_type": "markdown",
      "metadata": {
        "id": "H-z4QGlO8DC1"
      },
      "source": [
        "## **Import Semua Packages/Library yang Digunakan**"
      ]
    },
    {
      "cell_type": "code",
      "execution_count": 1,
      "metadata": {
        "id": "FVYwaObI8DC1"
      },
      "outputs": [],
      "source": [
        "import pandas as pd\n",
        "import matplotlib.pyplot as plt\n",
        "import seaborn as sns"
      ]
    },
    {
      "cell_type": "markdown",
      "metadata": {
        "id": "h_Sh51Xy8DC1"
      },
      "source": [
        "## **Data Wrangling**"
      ]
    },
    {
      "cell_type": "markdown",
      "metadata": {
        "id": "sXU2GBYu8DC1"
      },
      "source": [
        "#### Gathering Data"
      ]
    },
    {
      "cell_type": "markdown",
      "source": [
        "#### Memuat Dataset"
      ],
      "metadata": {
        "id": "c9SC5uZUnpA0"
      }
    },
    {
      "cell_type": "markdown",
      "source": [
        "Import dataset dan masukan ke variabel customers_df, geolocation_df ,order_items_df, order_payments_df, order_reviews_df,\n",
        "orders_df, products_df, product_translation_df,\n",
        "sellers_df di notebook"
      ],
      "metadata": {
        "id": "wB8qarhTmhxP"
      }
    },
    {
      "cell_type": "code",
      "source": [
        "customers_df = pd.read_csv('/content/customers_dataset.csv')\n",
        "geolocation_df = pd.read_csv('/content/geolocation_dataset.csv')\n",
        "order_items_df = pd.read_csv('/content/order_items_dataset.csv')\n",
        "order_payments_df = pd.read_csv('/content/order_payments_dataset.csv')\n",
        "order_reviews_df = pd.read_csv('/content/order_reviews_dataset.csv')\n",
        "orders_df = pd.read_csv('/content/orders_dataset.csv')\n",
        "products_df = pd.read_csv('/content/products_dataset.csv')\n",
        "product_translation_df = pd.read_csv('/content/product_category_name_translation.csv')\n",
        "sellers_df = pd.read_csv('/content/sellers_dataset.csv')"
      ],
      "metadata": {
        "id": "9wCV9hatlLHA"
      },
      "execution_count": 2,
      "outputs": []
    },
    {
      "cell_type": "code",
      "source": [
        "print(customers_df.head())\n",
        "print(geolocation_df.head())\n",
        "print(order_items_df.head())\n",
        "print(order_payments_df.head())\n",
        "print(order_reviews_df.head())\n",
        "print(orders_df.head())\n",
        "print(products_df.head())\n",
        "print(product_translation_df.head())\n",
        "print(sellers_df.head())"
      ],
      "metadata": {
        "colab": {
          "base_uri": "https://localhost:8080/"
        },
        "id": "-0bZXcLOmOm8",
        "outputId": "4df13d57-e743-49a5-e5aa-2d561cf9c3ba"
      },
      "execution_count": 3,
      "outputs": [
        {
          "output_type": "stream",
          "name": "stdout",
          "text": [
            "                        customer_id                customer_unique_id  \\\n",
            "0  06b8999e2fba1a1fbc88172c00ba8bc7  861eff4711a542e4b93843c6dd7febb0   \n",
            "1  18955e83d337fd6b2def6b18a428ac77  290c77bc529b7ac935b93aa66c333dc3   \n",
            "2  4e7b3e00288586ebd08712fdd0374a03  060e732b5b29e8181a18229c7b0b2b5e   \n",
            "3  b2b6027bc5c5109e529d4dc6358b12c3  259dac757896d24d7702b9acbbff3f3c   \n",
            "4  4f2d8ab171c80ec8364f7c12e35b23ad  345ecd01c38d18a9036ed96c73b8d066   \n",
            "\n",
            "   customer_zip_code_prefix          customer_city customer_state  \n",
            "0                     14409                 franca             SP  \n",
            "1                      9790  sao bernardo do campo             SP  \n",
            "2                      1151              sao paulo             SP  \n",
            "3                      8775        mogi das cruzes             SP  \n",
            "4                     13056               campinas             SP  \n",
            "   geolocation_zip_code_prefix  geolocation_lat  geolocation_lng  \\\n",
            "0                         1037       -23.545621       -46.639292   \n",
            "1                         1046       -23.546081       -46.644820   \n",
            "2                         1046       -23.546129       -46.642951   \n",
            "3                         1041       -23.544392       -46.639499   \n",
            "4                         1035       -23.541578       -46.641607   \n",
            "\n",
            "  geolocation_city geolocation_state  \n",
            "0        sao paulo                SP  \n",
            "1        sao paulo                SP  \n",
            "2        sao paulo                SP  \n",
            "3        sao paulo                SP  \n",
            "4        sao paulo                SP  \n",
            "                           order_id  order_item_id  \\\n",
            "0  00010242fe8c5a6d1ba2dd792cb16214              1   \n",
            "1  00018f77f2f0320c557190d7a144bdd3              1   \n",
            "2  000229ec398224ef6ca0657da4fc703e              1   \n",
            "3  00024acbcdf0a6daa1e931b038114c75              1   \n",
            "4  00042b26cf59d7ce69dfabb4e55b4fd9              1   \n",
            "\n",
            "                         product_id                         seller_id  \\\n",
            "0  4244733e06e7ecb4970a6e2683c13e61  48436dade18ac8b2bce089ec2a041202   \n",
            "1  e5f2d52b802189ee658865ca93d83a8f  dd7ddc04e1b6c2c614352b383efe2d36   \n",
            "2  c777355d18b72b67abbeef9df44fd0fd  5b51032eddd242adc84c38acab88f23d   \n",
            "3  7634da152a4610f1595efa32f14722fc  9d7a1d34a5052409006425275ba1c2b4   \n",
            "4  ac6c3623068f30de03045865e4e10089  df560393f3a51e74553ab94004ba5c87   \n",
            "\n",
            "   shipping_limit_date   price  freight_value  \n",
            "0  2017-09-19 09:45:35   58.90          13.29  \n",
            "1  2017-05-03 11:05:13  239.90          19.93  \n",
            "2  2018-01-18 14:48:30  199.00          17.87  \n",
            "3  2018-08-15 10:10:18   12.99          12.79  \n",
            "4  2017-02-13 13:57:51  199.90          18.14  \n",
            "                           order_id  payment_sequential payment_type  \\\n",
            "0  b81ef226f3fe1789b1e8b2acac839d17                   1  credit_card   \n",
            "1  a9810da82917af2d9aefd1278f1dcfa0                   1  credit_card   \n",
            "2  25e8ea4e93396b6fa0d3dd708e76c1bd                   1  credit_card   \n",
            "3  ba78997921bbcdc1373bb41e913ab953                   1  credit_card   \n",
            "4  42fdf880ba16b47b59251dd489d4441a                   1  credit_card   \n",
            "\n",
            "   payment_installments  payment_value  \n",
            "0                     8          99.33  \n",
            "1                     1          24.39  \n",
            "2                     1          65.71  \n",
            "3                     8         107.78  \n",
            "4                     2         128.45  \n",
            "                          review_id                          order_id  \\\n",
            "0  7bc2406110b926393aa56f80a40eba40  73fc7af87114b39712e6da79b0a377eb   \n",
            "1  80e641a11e56f04c1ad469d5645fdfde  a548910a1c6147796b98fdf73dbeba33   \n",
            "2  228ce5500dc1d8e020d8d1322874b6f0  f9e4b658b201a9f2ecdecbb34bed034b   \n",
            "3  e64fb393e7b32834bb789ff8bb30750e  658677c97b385a9be170737859d3511b   \n",
            "4  f7c4243c7fe1938f181bec41a392bdeb  8e6bfb81e283fa7e4f11123a3fb894f1   \n",
            "\n",
            "   review_score review_comment_title  \\\n",
            "0             4                  NaN   \n",
            "1             5                  NaN   \n",
            "2             5                  NaN   \n",
            "3             5                  NaN   \n",
            "4             5                  NaN   \n",
            "\n",
            "                              review_comment_message review_creation_date  \\\n",
            "0                                                NaN  2018-01-18 00:00:00   \n",
            "1                                                NaN  2018-03-10 00:00:00   \n",
            "2                                                NaN  2018-02-17 00:00:00   \n",
            "3              Recebi bem antes do prazo estipulado.  2017-04-21 00:00:00   \n",
            "4  Parabéns lojas lannister adorei comprar pela I...  2018-03-01 00:00:00   \n",
            "\n",
            "  review_answer_timestamp  \n",
            "0     2018-01-18 21:46:59  \n",
            "1     2018-03-11 03:05:13  \n",
            "2     2018-02-18 14:36:24  \n",
            "3     2017-04-21 22:02:06  \n",
            "4     2018-03-02 10:26:53  \n",
            "                           order_id                       customer_id  \\\n",
            "0  e481f51cbdc54678b7cc49136f2d6af7  9ef432eb6251297304e76186b10a928d   \n",
            "1  53cdb2fc8bc7dce0b6741e2150273451  b0830fb4747a6c6d20dea0b8c802d7ef   \n",
            "2  47770eb9100c2d0c44946d9cf07ec65d  41ce2a54c0b03bf3443c3d931a367089   \n",
            "3  949d5b44dbf5de918fe9c16f97b45f8a  f88197465ea7920adcdbec7375364d82   \n",
            "4  ad21c59c0840e6cb83a9ceb5573f8159  8ab97904e6daea8866dbdbc4fb7aad2c   \n",
            "\n",
            "  order_status order_purchase_timestamp    order_approved_at  \\\n",
            "0    delivered      2017-10-02 10:56:33  2017-10-02 11:07:15   \n",
            "1    delivered      2018-07-24 20:41:37  2018-07-26 03:24:27   \n",
            "2    delivered      2018-08-08 08:38:49  2018-08-08 08:55:23   \n",
            "3    delivered      2017-11-18 19:28:06  2017-11-18 19:45:59   \n",
            "4    delivered      2018-02-13 21:18:39  2018-02-13 22:20:29   \n",
            "\n",
            "  order_delivered_carrier_date order_delivered_customer_date  \\\n",
            "0          2017-10-04 19:55:00           2017-10-10 21:25:13   \n",
            "1          2018-07-26 14:31:00           2018-08-07 15:27:45   \n",
            "2          2018-08-08 13:50:00           2018-08-17 18:06:29   \n",
            "3          2017-11-22 13:39:59           2017-12-02 00:28:42   \n",
            "4          2018-02-14 19:46:34           2018-02-16 18:17:02   \n",
            "\n",
            "  order_estimated_delivery_date  \n",
            "0           2017-10-18 00:00:00  \n",
            "1           2018-08-13 00:00:00  \n",
            "2           2018-09-04 00:00:00  \n",
            "3           2017-12-15 00:00:00  \n",
            "4           2018-02-26 00:00:00  \n",
            "                         product_id  product_category_name  \\\n",
            "0  1e9e8ef04dbcff4541ed26657ea517e5             perfumaria   \n",
            "1  3aa071139cb16b67ca9e5dea641aaa2f                  artes   \n",
            "2  96bd76ec8810374ed1b65e291975717f          esporte_lazer   \n",
            "3  cef67bcfe19066a932b7673e239eb23d                  bebes   \n",
            "4  9dc1a7de274444849c219cff195d0b71  utilidades_domesticas   \n",
            "\n",
            "   product_name_lenght  product_description_lenght  product_photos_qty  \\\n",
            "0                 40.0                       287.0                 1.0   \n",
            "1                 44.0                       276.0                 1.0   \n",
            "2                 46.0                       250.0                 1.0   \n",
            "3                 27.0                       261.0                 1.0   \n",
            "4                 37.0                       402.0                 4.0   \n",
            "\n",
            "   product_weight_g  product_length_cm  product_height_cm  product_width_cm  \n",
            "0             225.0               16.0               10.0              14.0  \n",
            "1            1000.0               30.0               18.0              20.0  \n",
            "2             154.0               18.0                9.0              15.0  \n",
            "3             371.0               26.0                4.0              26.0  \n",
            "4             625.0               20.0               17.0              13.0  \n",
            "    product_category_name product_category_name_english\n",
            "0            beleza_saude                 health_beauty\n",
            "1  informatica_acessorios         computers_accessories\n",
            "2              automotivo                          auto\n",
            "3         cama_mesa_banho                bed_bath_table\n",
            "4        moveis_decoracao               furniture_decor\n",
            "                          seller_id  seller_zip_code_prefix  \\\n",
            "0  3442f8959a84dea7ee197c632cb2df15                   13023   \n",
            "1  d1b65fc7debc3361ea86b5f14c68d2e2                   13844   \n",
            "2  ce3ad9de960102d0677a81f5d0bb7b2d                   20031   \n",
            "3  c0f3eea2e14555b6faeea3dd58c1b1c3                    4195   \n",
            "4  51a04a8a6bdcb23deccc82b0b80742cf                   12914   \n",
            "\n",
            "         seller_city seller_state  \n",
            "0           campinas           SP  \n",
            "1         mogi guacu           SP  \n",
            "2     rio de janeiro           RJ  \n",
            "3          sao paulo           SP  \n",
            "4  braganca paulista           SP  \n"
          ]
        }
      ]
    },
    {
      "cell_type": "markdown",
      "source": [
        "**Insight:**\n",
        "Data sudah selesai terimport ke dalam notebook, dan sudah dapat ditampilkan 5 baris teratas"
      ],
      "metadata": {
        "id": "MMi6xGaDkbCi"
      }
    },
    {
      "cell_type": "markdown",
      "metadata": {
        "id": "FHSiqaZp8DC1"
      },
      "source": [
        "### Assessing Data"
      ]
    },
    {
      "cell_type": "code",
      "source": [
        "# Fungsi untuk mengecek missing values, duplikasi, dan deskripsi data\n",
        "def check_data(df, df_name):\n",
        "    print(f\"===== {df_name} =====\")\n",
        "\n",
        "    # Deskripsi umum\n",
        "    print(\"\\nDeskripsi data:\")\n",
        "    print(df.describe(include='all'))\n",
        "\n",
        "    # Cek missing values\n",
        "    print(\"\\nMissing values:\")\n",
        "    print(df.isnull().sum())\n",
        "\n",
        "    # Cek data duplikat\n",
        "    print(\"\\nJumlah duplikasi:\")\n",
        "    print(df.duplicated().sum())\n",
        "\n",
        "    # Cek data outlier berdasarkan nilai deskriptif untuk kolom numerik\n",
        "    numeric_cols = df.select_dtypes(include=['number']).columns\n",
        "\n",
        "    if len(numeric_cols) > 0:\n",
        "        print(\"\\nPotensi outliers (berdasarkan IQR):\")\n",
        "        Q1 = df[numeric_cols].quantile(0.25)\n",
        "        Q3 = df[numeric_cols].quantile(0.75)\n",
        "        IQR = Q3 - Q1\n",
        "        outliers = ((df[numeric_cols] < (Q1 - 1.5 * IQR)) | (df[numeric_cols] > (Q3 + 1.5 * IQR))).sum()\n",
        "        print(outliers)\n",
        "    else:\n",
        "        print(\"\\nTidak ada kolom numerik untuk analisis outlier.\")\n",
        "\n",
        "    print(\"\\n===================================\\n\")"
      ],
      "metadata": {
        "id": "n_wCKG0u0t0m"
      },
      "execution_count": 4,
      "outputs": []
    },
    {
      "cell_type": "markdown",
      "source": [
        "#### Cek missing value, jumlah duplikasi dan potensi outlier"
      ],
      "metadata": {
        "id": "ja13J8m62OBt"
      }
    },
    {
      "cell_type": "code",
      "source": [
        "# Cek untuk setiap DataFrame\n",
        "check_data(customers_df, 'Customers Dataset')\n",
        "check_data(geolocation_df, 'Geolocation Dataset')\n",
        "check_data(order_items_df, 'Order Items Dataset')\n",
        "check_data(order_payments_df, 'Order Payments Dataset')\n",
        "check_data(order_reviews_df, 'Order Reviews Dataset')\n",
        "check_data(orders_df, 'Orders Dataset')\n",
        "check_data(products_df, 'Products Dataset')\n",
        "check_data(product_translation_df, 'Product Translation Dataset')\n",
        "check_data(sellers_df, 'Sellers Dataset')"
      ],
      "metadata": {
        "colab": {
          "base_uri": "https://localhost:8080/"
        },
        "id": "40uelDzT2T_B",
        "outputId": "ef3a8ba3-e9ac-4615-c5ec-8ad0d8da0573"
      },
      "execution_count": 6,
      "outputs": [
        {
          "output_type": "stream",
          "name": "stdout",
          "text": [
            "===== Customers Dataset =====\n",
            "\n",
            "Deskripsi data:\n",
            "                             customer_id                customer_unique_id  \\\n",
            "count                              99441                             99441   \n",
            "unique                             99441                             96096   \n",
            "top     06b8999e2fba1a1fbc88172c00ba8bc7  8d50f5eadf50201ccdcedfb9e2ac8455   \n",
            "freq                                   1                                17   \n",
            "mean                                 NaN                               NaN   \n",
            "std                                  NaN                               NaN   \n",
            "min                                  NaN                               NaN   \n",
            "25%                                  NaN                               NaN   \n",
            "50%                                  NaN                               NaN   \n",
            "75%                                  NaN                               NaN   \n",
            "max                                  NaN                               NaN   \n",
            "\n",
            "        customer_zip_code_prefix customer_city customer_state  \n",
            "count               99441.000000         99441          99441  \n",
            "unique                       NaN          4119             27  \n",
            "top                          NaN     sao paulo             SP  \n",
            "freq                         NaN         15540          41746  \n",
            "mean                35137.474583           NaN            NaN  \n",
            "std                 29797.938996           NaN            NaN  \n",
            "min                  1003.000000           NaN            NaN  \n",
            "25%                 11347.000000           NaN            NaN  \n",
            "50%                 24416.000000           NaN            NaN  \n",
            "75%                 58900.000000           NaN            NaN  \n",
            "max                 99990.000000           NaN            NaN  \n",
            "\n",
            "Missing values:\n",
            "customer_id                 0\n",
            "customer_unique_id          0\n",
            "customer_zip_code_prefix    0\n",
            "customer_city               0\n",
            "customer_state              0\n",
            "dtype: int64\n",
            "\n",
            "Jumlah duplikasi:\n",
            "0\n",
            "\n",
            "Potensi outliers (berdasarkan IQR):\n",
            "customer_zip_code_prefix    0\n",
            "dtype: int64\n",
            "\n",
            "===================================\n",
            "\n",
            "===== Geolocation Dataset =====\n",
            "\n",
            "Deskripsi data:\n",
            "        geolocation_zip_code_prefix  geolocation_lat  geolocation_lng  \\\n",
            "count                  1.000163e+06     1.000163e+06     1.000163e+06   \n",
            "unique                          NaN              NaN              NaN   \n",
            "top                             NaN              NaN              NaN   \n",
            "freq                            NaN              NaN              NaN   \n",
            "mean                   3.657417e+04    -2.117615e+01    -4.639054e+01   \n",
            "std                    3.054934e+04     5.715866e+00     4.269748e+00   \n",
            "min                    1.001000e+03    -3.660537e+01    -1.014668e+02   \n",
            "25%                    1.107500e+04    -2.360355e+01    -4.857317e+01   \n",
            "50%                    2.653000e+04    -2.291938e+01    -4.663788e+01   \n",
            "75%                    6.350400e+04    -1.997962e+01    -4.376771e+01   \n",
            "max                    9.999000e+04     4.506593e+01     1.211054e+02   \n",
            "\n",
            "       geolocation_city geolocation_state  \n",
            "count           1000163           1000163  \n",
            "unique             8011                27  \n",
            "top           sao paulo                SP  \n",
            "freq             135800            404268  \n",
            "mean                NaN               NaN  \n",
            "std                 NaN               NaN  \n",
            "min                 NaN               NaN  \n",
            "25%                 NaN               NaN  \n",
            "50%                 NaN               NaN  \n",
            "75%                 NaN               NaN  \n",
            "max                 NaN               NaN  \n",
            "\n",
            "Missing values:\n",
            "geolocation_zip_code_prefix    0\n",
            "geolocation_lat                0\n",
            "geolocation_lng                0\n",
            "geolocation_city               0\n",
            "geolocation_state              0\n",
            "dtype: int64\n",
            "\n",
            "Jumlah duplikasi:\n",
            "261831\n",
            "\n",
            "Potensi outliers (berdasarkan IQR):\n",
            "geolocation_zip_code_prefix         0\n",
            "geolocation_lat                168240\n",
            "geolocation_lng                 42348\n",
            "dtype: int64\n",
            "\n",
            "===================================\n",
            "\n",
            "===== Order Items Dataset =====\n",
            "\n",
            "Deskripsi data:\n",
            "                                order_id  order_item_id  \\\n",
            "count                             112650  112650.000000   \n",
            "unique                             98666            NaN   \n",
            "top     8272b63d03f5f79c56e9e4120aec44ef            NaN   \n",
            "freq                                  21            NaN   \n",
            "mean                                 NaN       1.197834   \n",
            "std                                  NaN       0.705124   \n",
            "min                                  NaN       1.000000   \n",
            "25%                                  NaN       1.000000   \n",
            "50%                                  NaN       1.000000   \n",
            "75%                                  NaN       1.000000   \n",
            "max                                  NaN      21.000000   \n",
            "\n",
            "                              product_id                         seller_id  \\\n",
            "count                             112650                            112650   \n",
            "unique                             32951                              3095   \n",
            "top     aca2eb7d00ea1a7b8ebd4e68314663af  6560211a19b47992c3666cc44a7e94c0   \n",
            "freq                                 527                              2033   \n",
            "mean                                 NaN                               NaN   \n",
            "std                                  NaN                               NaN   \n",
            "min                                  NaN                               NaN   \n",
            "25%                                  NaN                               NaN   \n",
            "50%                                  NaN                               NaN   \n",
            "75%                                  NaN                               NaN   \n",
            "max                                  NaN                               NaN   \n",
            "\n",
            "        shipping_limit_date          price  freight_value  \n",
            "count                112650  112650.000000  112650.000000  \n",
            "unique                93318            NaN            NaN  \n",
            "top     2017-07-21 18:25:23            NaN            NaN  \n",
            "freq                     21            NaN            NaN  \n",
            "mean                    NaN     120.653739      19.990320  \n",
            "std                     NaN     183.633928      15.806405  \n",
            "min                     NaN       0.850000       0.000000  \n",
            "25%                     NaN      39.900000      13.080000  \n",
            "50%                     NaN      74.990000      16.260000  \n",
            "75%                     NaN     134.900000      21.150000  \n",
            "max                     NaN    6735.000000     409.680000  \n",
            "\n",
            "Missing values:\n",
            "order_id               0\n",
            "order_item_id          0\n",
            "product_id             0\n",
            "seller_id              0\n",
            "shipping_limit_date    0\n",
            "price                  0\n",
            "freight_value          0\n",
            "dtype: int64\n",
            "\n",
            "Jumlah duplikasi:\n",
            "0\n",
            "\n",
            "Potensi outliers (berdasarkan IQR):\n",
            "order_item_id    13984\n",
            "price             8427\n",
            "freight_value    12134\n",
            "dtype: int64\n",
            "\n",
            "===================================\n",
            "\n",
            "===== Order Payments Dataset =====\n",
            "\n",
            "Deskripsi data:\n",
            "                                order_id  payment_sequential payment_type  \\\n",
            "count                             103886       103886.000000       103886   \n",
            "unique                             99440                 NaN            5   \n",
            "top     fa65dad1b0e818e3ccc5cb0e39231352                 NaN  credit_card   \n",
            "freq                                  29                 NaN        76795   \n",
            "mean                                 NaN            1.092679          NaN   \n",
            "std                                  NaN            0.706584          NaN   \n",
            "min                                  NaN            1.000000          NaN   \n",
            "25%                                  NaN            1.000000          NaN   \n",
            "50%                                  NaN            1.000000          NaN   \n",
            "75%                                  NaN            1.000000          NaN   \n",
            "max                                  NaN           29.000000          NaN   \n",
            "\n",
            "        payment_installments  payment_value  \n",
            "count          103886.000000  103886.000000  \n",
            "unique                   NaN            NaN  \n",
            "top                      NaN            NaN  \n",
            "freq                     NaN            NaN  \n",
            "mean                2.853349     154.100380  \n",
            "std                 2.687051     217.494064  \n",
            "min                 0.000000       0.000000  \n",
            "25%                 1.000000      56.790000  \n",
            "50%                 1.000000     100.000000  \n",
            "75%                 4.000000     171.837500  \n",
            "max                24.000000   13664.080000  \n",
            "\n",
            "Missing values:\n",
            "order_id                0\n",
            "payment_sequential      0\n",
            "payment_type            0\n",
            "payment_installments    0\n",
            "payment_value           0\n",
            "dtype: int64\n",
            "\n",
            "Jumlah duplikasi:\n",
            "0\n",
            "\n",
            "Potensi outliers (berdasarkan IQR):\n",
            "payment_sequential      4526\n",
            "payment_installments    6313\n",
            "payment_value           7981\n",
            "dtype: int64\n",
            "\n",
            "===================================\n",
            "\n",
            "===== Order Reviews Dataset =====\n",
            "\n",
            "Deskripsi data:\n",
            "                               review_id                          order_id  \\\n",
            "count                              99224                             99224   \n",
            "unique                             98410                             98673   \n",
            "top     7b606b0d57b078384f0b58eac1d41d78  c88b1d1b157a9999ce368f218a407141   \n",
            "freq                                   3                                 3   \n",
            "mean                                 NaN                               NaN   \n",
            "std                                  NaN                               NaN   \n",
            "min                                  NaN                               NaN   \n",
            "25%                                  NaN                               NaN   \n",
            "50%                                  NaN                               NaN   \n",
            "75%                                  NaN                               NaN   \n",
            "max                                  NaN                               NaN   \n",
            "\n",
            "        review_score review_comment_title review_comment_message  \\\n",
            "count   99224.000000                11568                  40977   \n",
            "unique           NaN                 4527                  36159   \n",
            "top              NaN            Recomendo              Muito bom   \n",
            "freq             NaN                  423                    230   \n",
            "mean        4.086421                  NaN                    NaN   \n",
            "std         1.347579                  NaN                    NaN   \n",
            "min         1.000000                  NaN                    NaN   \n",
            "25%         4.000000                  NaN                    NaN   \n",
            "50%         5.000000                  NaN                    NaN   \n",
            "75%         5.000000                  NaN                    NaN   \n",
            "max         5.000000                  NaN                    NaN   \n",
            "\n",
            "       review_creation_date review_answer_timestamp  \n",
            "count                 99224                   99224  \n",
            "unique                  636                   98248  \n",
            "top     2017-12-19 00:00:00     2017-06-15 23:21:05  \n",
            "freq                    463                       4  \n",
            "mean                    NaN                     NaN  \n",
            "std                     NaN                     NaN  \n",
            "min                     NaN                     NaN  \n",
            "25%                     NaN                     NaN  \n",
            "50%                     NaN                     NaN  \n",
            "75%                     NaN                     NaN  \n",
            "max                     NaN                     NaN  \n",
            "\n",
            "Missing values:\n",
            "review_id                      0\n",
            "order_id                       0\n",
            "review_score                   0\n",
            "review_comment_title       87656\n",
            "review_comment_message     58247\n",
            "review_creation_date           0\n",
            "review_answer_timestamp        0\n",
            "dtype: int64\n",
            "\n",
            "Jumlah duplikasi:\n",
            "0\n",
            "\n",
            "Potensi outliers (berdasarkan IQR):\n",
            "review_score    14575\n",
            "dtype: int64\n",
            "\n",
            "===================================\n",
            "\n",
            "===== Orders Dataset =====\n",
            "\n",
            "Deskripsi data:\n",
            "                                order_id                       customer_id  \\\n",
            "count                              99441                             99441   \n",
            "unique                             99441                             99441   \n",
            "top     e481f51cbdc54678b7cc49136f2d6af7  9ef432eb6251297304e76186b10a928d   \n",
            "freq                                   1                                 1   \n",
            "\n",
            "       order_status order_purchase_timestamp    order_approved_at  \\\n",
            "count         99441                    99441                99281   \n",
            "unique            8                    98875                90733   \n",
            "top       delivered      2018-04-11 10:48:14  2018-02-27 04:31:10   \n",
            "freq          96478                        3                    9   \n",
            "\n",
            "       order_delivered_carrier_date order_delivered_customer_date  \\\n",
            "count                         97658                         96476   \n",
            "unique                        81018                         95664   \n",
            "top             2018-05-09 15:48:00           2018-05-08 23:38:46   \n",
            "freq                             47                             3   \n",
            "\n",
            "       order_estimated_delivery_date  \n",
            "count                          99441  \n",
            "unique                           459  \n",
            "top              2017-12-20 00:00:00  \n",
            "freq                             522  \n",
            "\n",
            "Missing values:\n",
            "order_id                            0\n",
            "customer_id                         0\n",
            "order_status                        0\n",
            "order_purchase_timestamp            0\n",
            "order_approved_at                 160\n",
            "order_delivered_carrier_date     1783\n",
            "order_delivered_customer_date    2965\n",
            "order_estimated_delivery_date       0\n",
            "dtype: int64\n",
            "\n",
            "Jumlah duplikasi:\n",
            "0\n",
            "\n",
            "Tidak ada kolom numerik untuk analisis outlier.\n",
            "\n",
            "===================================\n",
            "\n",
            "===== Products Dataset =====\n",
            "\n",
            "Deskripsi data:\n",
            "                              product_id product_category_name  \\\n",
            "count                              32951                 32341   \n",
            "unique                             32951                    73   \n",
            "top     1e9e8ef04dbcff4541ed26657ea517e5       cama_mesa_banho   \n",
            "freq                                   1                  3029   \n",
            "mean                                 NaN                   NaN   \n",
            "std                                  NaN                   NaN   \n",
            "min                                  NaN                   NaN   \n",
            "25%                                  NaN                   NaN   \n",
            "50%                                  NaN                   NaN   \n",
            "75%                                  NaN                   NaN   \n",
            "max                                  NaN                   NaN   \n",
            "\n",
            "        product_name_lenght  product_description_lenght  product_photos_qty  \\\n",
            "count          32341.000000                32341.000000        32341.000000   \n",
            "unique                  NaN                         NaN                 NaN   \n",
            "top                     NaN                         NaN                 NaN   \n",
            "freq                    NaN                         NaN                 NaN   \n",
            "mean              48.476949                  771.495285            2.188986   \n",
            "std               10.245741                  635.115225            1.736766   \n",
            "min                5.000000                    4.000000            1.000000   \n",
            "25%               42.000000                  339.000000            1.000000   \n",
            "50%               51.000000                  595.000000            1.000000   \n",
            "75%               57.000000                  972.000000            3.000000   \n",
            "max               76.000000                 3992.000000           20.000000   \n",
            "\n",
            "        product_weight_g  product_length_cm  product_height_cm  \\\n",
            "count       32949.000000       32949.000000       32949.000000   \n",
            "unique               NaN                NaN                NaN   \n",
            "top                  NaN                NaN                NaN   \n",
            "freq                 NaN                NaN                NaN   \n",
            "mean         2276.472488          30.815078          16.937661   \n",
            "std          4282.038731          16.914458          13.637554   \n",
            "min             0.000000           7.000000           2.000000   \n",
            "25%           300.000000          18.000000           8.000000   \n",
            "50%           700.000000          25.000000          13.000000   \n",
            "75%          1900.000000          38.000000          21.000000   \n",
            "max         40425.000000         105.000000         105.000000   \n",
            "\n",
            "        product_width_cm  \n",
            "count       32949.000000  \n",
            "unique               NaN  \n",
            "top                  NaN  \n",
            "freq                 NaN  \n",
            "mean           23.196728  \n",
            "std            12.079047  \n",
            "min             6.000000  \n",
            "25%            15.000000  \n",
            "50%            20.000000  \n",
            "75%            30.000000  \n",
            "max           118.000000  \n",
            "\n",
            "Missing values:\n",
            "product_id                      0\n",
            "product_category_name         610\n",
            "product_name_lenght           610\n",
            "product_description_lenght    610\n",
            "product_photos_qty            610\n",
            "product_weight_g                2\n",
            "product_length_cm               2\n",
            "product_height_cm               2\n",
            "product_width_cm                2\n",
            "dtype: int64\n",
            "\n",
            "Jumlah duplikasi:\n",
            "0\n",
            "\n",
            "Potensi outliers (berdasarkan IQR):\n",
            "product_name_lenght            290\n",
            "product_description_lenght    2078\n",
            "product_photos_qty             849\n",
            "product_weight_g              4551\n",
            "product_length_cm             1380\n",
            "product_height_cm             1892\n",
            "product_width_cm               912\n",
            "dtype: int64\n",
            "\n",
            "===================================\n",
            "\n",
            "===== Product Translation Dataset =====\n",
            "\n",
            "Deskripsi data:\n",
            "       product_category_name product_category_name_english\n",
            "count                     71                            71\n",
            "unique                    71                            71\n",
            "top             beleza_saude                 health_beauty\n",
            "freq                       1                             1\n",
            "\n",
            "Missing values:\n",
            "product_category_name            0\n",
            "product_category_name_english    0\n",
            "dtype: int64\n",
            "\n",
            "Jumlah duplikasi:\n",
            "0\n",
            "\n",
            "Tidak ada kolom numerik untuk analisis outlier.\n",
            "\n",
            "===================================\n",
            "\n",
            "===== Sellers Dataset =====\n",
            "\n",
            "Deskripsi data:\n",
            "                               seller_id  seller_zip_code_prefix seller_city  \\\n",
            "count                               3095             3095.000000        3095   \n",
            "unique                              3095                     NaN         611   \n",
            "top     3442f8959a84dea7ee197c632cb2df15                     NaN   sao paulo   \n",
            "freq                                   1                     NaN         694   \n",
            "mean                                 NaN            32291.059451         NaN   \n",
            "std                                  NaN            32713.453830         NaN   \n",
            "min                                  NaN             1001.000000         NaN   \n",
            "25%                                  NaN             7093.500000         NaN   \n",
            "50%                                  NaN            14940.000000         NaN   \n",
            "75%                                  NaN            64552.500000         NaN   \n",
            "max                                  NaN            99730.000000         NaN   \n",
            "\n",
            "       seller_state  \n",
            "count          3095  \n",
            "unique           23  \n",
            "top              SP  \n",
            "freq           1849  \n",
            "mean            NaN  \n",
            "std             NaN  \n",
            "min             NaN  \n",
            "25%             NaN  \n",
            "50%             NaN  \n",
            "75%             NaN  \n",
            "max             NaN  \n",
            "\n",
            "Missing values:\n",
            "seller_id                 0\n",
            "seller_zip_code_prefix    0\n",
            "seller_city               0\n",
            "seller_state              0\n",
            "dtype: int64\n",
            "\n",
            "Jumlah duplikasi:\n",
            "0\n",
            "\n",
            "Potensi outliers (berdasarkan IQR):\n",
            "seller_zip_code_prefix    0\n",
            "dtype: int64\n",
            "\n",
            "===================================\n",
            "\n"
          ]
        }
      ]
    },
    {
      "cell_type": "markdown",
      "source": [
        "Terlihat beberapa dataset memiliki duplikasi data dan missing value, namun pada tahap selanjutnya hanya beberapa dataset yang digunakan kemudian dilakukan pembersihan."
      ],
      "metadata": {
        "id": "UZihAJcO2ova"
      }
    },
    {
      "cell_type": "markdown",
      "metadata": {
        "id": "EhN5R4hr8DC1"
      },
      "source": [
        "### Cleaning Data"
      ]
    },
    {
      "cell_type": "markdown",
      "source": [
        "1. Menggabungkan data produk dengan kategori produk yang diterjemahkan"
      ],
      "metadata": {
        "id": "in0v1EGsqqHO"
      }
    },
    {
      "cell_type": "code",
      "source": [
        "products_df = pd.merge(products_df, product_translation_df, on='product_category_name', how='left')"
      ],
      "metadata": {
        "id": "283M_qoYqmb2"
      },
      "execution_count": 7,
      "outputs": []
    },
    {
      "cell_type": "markdown",
      "source": [
        "2. Mengonversi kolom tanggal pada order menjadi tipe datetime"
      ],
      "metadata": {
        "id": "C0Vg5z3Jqw5c"
      }
    },
    {
      "cell_type": "code",
      "source": [
        "orders_df['order_purchase_timestamp'] = pd.to_datetime(orders_df['order_purchase_timestamp'])\n",
        "orders_df['order_delivered_customer_date'] = pd.to_datetime(orders_df['order_delivered_customer_date'])\n",
        "orders_df['order_estimated_delivery_date'] = pd.to_datetime(orders_df['order_estimated_delivery_date'])"
      ],
      "metadata": {
        "id": "Sh9gbnZwq5lg"
      },
      "execution_count": 8,
      "outputs": []
    },
    {
      "cell_type": "markdown",
      "source": [
        "3. Mengatasi missing values - Hapus baris dengan tanggal pengiriman yang kosong"
      ],
      "metadata": {
        "id": "R_rhFV2Iq7Lp"
      }
    },
    {
      "cell_type": "code",
      "source": [
        "orders_clean_df = orders_df.dropna(subset=['order_delivered_customer_date', 'order_estimated_delivery_date'])\n"
      ],
      "metadata": {
        "id": "qzs3BVDerAML"
      },
      "execution_count": 9,
      "outputs": []
    },
    {
      "cell_type": "markdown",
      "source": [
        "4. Menambahkan kolom waktu pengiriman (dalam hari)"
      ],
      "metadata": {
        "id": "J3HSwBelrCS2"
      }
    },
    {
      "cell_type": "code",
      "source": [
        "orders_clean_df.loc[:, 'delivery_time'] = (orders_clean_df['order_delivered_customer_date'] - orders_clean_df['order_purchase_timestamp']).dt.days\n"
      ],
      "metadata": {
        "colab": {
          "base_uri": "https://localhost:8080/"
        },
        "id": "QVB02S1BrLKx",
        "outputId": "49530031-6a59-4883-c20d-07aa7f4ae729"
      },
      "execution_count": 10,
      "outputs": [
        {
          "output_type": "stream",
          "name": "stderr",
          "text": [
            "<ipython-input-10-5bc01030fcd9>:1: SettingWithCopyWarning: \n",
            "A value is trying to be set on a copy of a slice from a DataFrame.\n",
            "Try using .loc[row_indexer,col_indexer] = value instead\n",
            "\n",
            "See the caveats in the documentation: https://pandas.pydata.org/pandas-docs/stable/user_guide/indexing.html#returning-a-view-versus-a-copy\n",
            "  orders_clean_df.loc[:, 'delivery_time'] = (orders_clean_df['order_delivered_customer_date'] - orders_clean_df['order_purchase_timestamp']).dt.days\n"
          ]
        }
      ]
    },
    {
      "cell_type": "markdown",
      "source": [
        "5. Menambahkan kolom keterlambatan pengiriman"
      ],
      "metadata": {
        "id": "9CvQQg3brJYt"
      }
    },
    {
      "cell_type": "code",
      "source": [
        "orders_clean_df.loc[:, 'delivery_delay'] = (orders_clean_df['order_delivered_customer_date'] > orders_clean_df['order_estimated_delivery_date']).astype(int)\n"
      ],
      "metadata": {
        "colab": {
          "base_uri": "https://localhost:8080/"
        },
        "id": "Iqml14ZLsYM2",
        "outputId": "7143ccc8-7d9c-4c9d-b13b-a7932b9e24ec"
      },
      "execution_count": 11,
      "outputs": [
        {
          "output_type": "stream",
          "name": "stderr",
          "text": [
            "<ipython-input-11-527b60d1787c>:1: SettingWithCopyWarning: \n",
            "A value is trying to be set on a copy of a slice from a DataFrame.\n",
            "Try using .loc[row_indexer,col_indexer] = value instead\n",
            "\n",
            "See the caveats in the documentation: https://pandas.pydata.org/pandas-docs/stable/user_guide/indexing.html#returning-a-view-versus-a-copy\n",
            "  orders_clean_df.loc[:, 'delivery_delay'] = (orders_clean_df['order_delivered_customer_date'] > orders_clean_df['order_estimated_delivery_date']).astype(int)\n"
          ]
        }
      ]
    },
    {
      "cell_type": "markdown",
      "source": [
        "6. Menggabungkan data ulasan dengan data pesanan dan pelanggan"
      ],
      "metadata": {
        "id": "N43h3YCDsnKL"
      }
    },
    {
      "cell_type": "code",
      "source": [
        "order_reviews_clean_df = pd.merge(order_reviews_df, orders_clean_df[['order_id', 'customer_id', 'delivery_time']], on='order_id', how='left')\n"
      ],
      "metadata": {
        "id": "xeG9vp_Dspq1"
      },
      "execution_count": 12,
      "outputs": []
    },
    {
      "cell_type": "markdown",
      "source": [
        "7. Menggabungkan item pesanan dengan produk untuk mendapatkan kategori produk"
      ],
      "metadata": {
        "id": "hf2GcJvGsTLw"
      }
    },
    {
      "cell_type": "code",
      "source": [
        "order_items_products_df = pd.merge(order_items_df, products_df[['product_id', 'product_category_name_english']], on='product_id', how='left')\n"
      ],
      "metadata": {
        "id": "8Fth2lAEs1vr"
      },
      "execution_count": 13,
      "outputs": []
    },
    {
      "cell_type": "markdown",
      "source": [
        "8. Menggabungkan item pesanan dengan pesanan untuk analisis geografis"
      ],
      "metadata": {
        "id": "VkQgoUyswCh-"
      }
    },
    {
      "cell_type": "code",
      "source": [
        "orders_items_geo_df = pd.merge(order_items_products_df, orders_clean_df[['order_id', 'customer_id']], on='order_id', how='left')\n",
        "orders_items_geo_df = pd.merge(orders_items_geo_df, customers_df[['customer_id', 'customer_city', 'customer_state']], on='customer_id', how='left')\n"
      ],
      "metadata": {
        "id": "jVnYpprE9Evz"
      },
      "execution_count": 14,
      "outputs": []
    },
    {
      "cell_type": "markdown",
      "source": [
        "9. Menampilkan data hasil pembersihan"
      ],
      "metadata": {
        "id": "MVc4axJUv6uK"
      }
    },
    {
      "cell_type": "code",
      "source": [
        "print(orders_clean_df.head())\n",
        "print(order_reviews_clean_df.head())\n",
        "print(orders_items_geo_df.head())"
      ],
      "metadata": {
        "colab": {
          "base_uri": "https://localhost:8080/"
        },
        "id": "sKVDGPNavzMd",
        "outputId": "7dd244ff-ceeb-44de-920b-f00d188f33fd"
      },
      "execution_count": 15,
      "outputs": [
        {
          "output_type": "stream",
          "name": "stdout",
          "text": [
            "                           order_id                       customer_id  \\\n",
            "0  e481f51cbdc54678b7cc49136f2d6af7  9ef432eb6251297304e76186b10a928d   \n",
            "1  53cdb2fc8bc7dce0b6741e2150273451  b0830fb4747a6c6d20dea0b8c802d7ef   \n",
            "2  47770eb9100c2d0c44946d9cf07ec65d  41ce2a54c0b03bf3443c3d931a367089   \n",
            "3  949d5b44dbf5de918fe9c16f97b45f8a  f88197465ea7920adcdbec7375364d82   \n",
            "4  ad21c59c0840e6cb83a9ceb5573f8159  8ab97904e6daea8866dbdbc4fb7aad2c   \n",
            "\n",
            "  order_status order_purchase_timestamp    order_approved_at  \\\n",
            "0    delivered      2017-10-02 10:56:33  2017-10-02 11:07:15   \n",
            "1    delivered      2018-07-24 20:41:37  2018-07-26 03:24:27   \n",
            "2    delivered      2018-08-08 08:38:49  2018-08-08 08:55:23   \n",
            "3    delivered      2017-11-18 19:28:06  2017-11-18 19:45:59   \n",
            "4    delivered      2018-02-13 21:18:39  2018-02-13 22:20:29   \n",
            "\n",
            "  order_delivered_carrier_date order_delivered_customer_date  \\\n",
            "0          2017-10-04 19:55:00           2017-10-10 21:25:13   \n",
            "1          2018-07-26 14:31:00           2018-08-07 15:27:45   \n",
            "2          2018-08-08 13:50:00           2018-08-17 18:06:29   \n",
            "3          2017-11-22 13:39:59           2017-12-02 00:28:42   \n",
            "4          2018-02-14 19:46:34           2018-02-16 18:17:02   \n",
            "\n",
            "  order_estimated_delivery_date  delivery_time  delivery_delay  \n",
            "0                    2017-10-18              8               0  \n",
            "1                    2018-08-13             13               0  \n",
            "2                    2018-09-04              9               0  \n",
            "3                    2017-12-15             13               0  \n",
            "4                    2018-02-26              2               0  \n",
            "                          review_id                          order_id  \\\n",
            "0  7bc2406110b926393aa56f80a40eba40  73fc7af87114b39712e6da79b0a377eb   \n",
            "1  80e641a11e56f04c1ad469d5645fdfde  a548910a1c6147796b98fdf73dbeba33   \n",
            "2  228ce5500dc1d8e020d8d1322874b6f0  f9e4b658b201a9f2ecdecbb34bed034b   \n",
            "3  e64fb393e7b32834bb789ff8bb30750e  658677c97b385a9be170737859d3511b   \n",
            "4  f7c4243c7fe1938f181bec41a392bdeb  8e6bfb81e283fa7e4f11123a3fb894f1   \n",
            "\n",
            "   review_score review_comment_title  \\\n",
            "0             4                  NaN   \n",
            "1             5                  NaN   \n",
            "2             5                  NaN   \n",
            "3             5                  NaN   \n",
            "4             5                  NaN   \n",
            "\n",
            "                              review_comment_message review_creation_date  \\\n",
            "0                                                NaN  2018-01-18 00:00:00   \n",
            "1                                                NaN  2018-03-10 00:00:00   \n",
            "2                                                NaN  2018-02-17 00:00:00   \n",
            "3              Recebi bem antes do prazo estipulado.  2017-04-21 00:00:00   \n",
            "4  Parabéns lojas lannister adorei comprar pela I...  2018-03-01 00:00:00   \n",
            "\n",
            "  review_answer_timestamp                       customer_id  delivery_time  \n",
            "0     2018-01-18 21:46:59  41dcb106f807e993532d446263290104            6.0  \n",
            "1     2018-03-11 03:05:13  8a2e7ef9053dea531e4dc76bd6d853e6            9.0  \n",
            "2     2018-02-18 14:36:24  e226dfed6544df5b7b87a48208690feb           13.0  \n",
            "3     2017-04-21 22:02:06  de6dff97e5f1ba84a3cd9a3bc97df5f6           10.0  \n",
            "4     2018-03-02 10:26:53  5986b333ca0d44534a156a52a8e33a83           18.0  \n",
            "                           order_id  order_item_id  \\\n",
            "0  00010242fe8c5a6d1ba2dd792cb16214              1   \n",
            "1  00018f77f2f0320c557190d7a144bdd3              1   \n",
            "2  000229ec398224ef6ca0657da4fc703e              1   \n",
            "3  00024acbcdf0a6daa1e931b038114c75              1   \n",
            "4  00042b26cf59d7ce69dfabb4e55b4fd9              1   \n",
            "\n",
            "                         product_id                         seller_id  \\\n",
            "0  4244733e06e7ecb4970a6e2683c13e61  48436dade18ac8b2bce089ec2a041202   \n",
            "1  e5f2d52b802189ee658865ca93d83a8f  dd7ddc04e1b6c2c614352b383efe2d36   \n",
            "2  c777355d18b72b67abbeef9df44fd0fd  5b51032eddd242adc84c38acab88f23d   \n",
            "3  7634da152a4610f1595efa32f14722fc  9d7a1d34a5052409006425275ba1c2b4   \n",
            "4  ac6c3623068f30de03045865e4e10089  df560393f3a51e74553ab94004ba5c87   \n",
            "\n",
            "   shipping_limit_date   price  freight_value product_category_name_english  \\\n",
            "0  2017-09-19 09:45:35   58.90          13.29                    cool_stuff   \n",
            "1  2017-05-03 11:05:13  239.90          19.93                      pet_shop   \n",
            "2  2018-01-18 14:48:30  199.00          17.87               furniture_decor   \n",
            "3  2018-08-15 10:10:18   12.99          12.79                     perfumery   \n",
            "4  2017-02-13 13:57:51  199.90          18.14                  garden_tools   \n",
            "\n",
            "                        customer_id          customer_city customer_state  \n",
            "0  3ce436f183e68e07877b285a838db11a  campos dos goytacazes             RJ  \n",
            "1  f6dd3ec061db4e3987629fe6b26e5cce        santa fe do sul             SP  \n",
            "2  6489ae5e4333f3693df5ad4372dab6d3          para de minas             MG  \n",
            "3  d4eb9395c8c0431ee92fce09860c5a06                atibaia             SP  \n",
            "4  58dbd0b2d70206bf40e62cd34e84d795        varzea paulista             SP  \n"
          ]
        }
      ]
    },
    {
      "cell_type": "markdown",
      "source": [
        "**Insight:**\n",
        "- Data sudah bersih dan sudah siap untuk dilakukan analisis lebih lanjut"
      ],
      "metadata": {
        "id": "Q_5ejIqckiSP"
      }
    },
    {
      "cell_type": "markdown",
      "metadata": {
        "id": "gp-Y6wU38DC1"
      },
      "source": [
        "## **Exploratory Data Analysis (EDA)**"
      ]
    },
    {
      "cell_type": "markdown",
      "source": [
        "#### Deskripsi dataset"
      ],
      "metadata": {
        "id": "4hQ18GTf4Ja0"
      }
    },
    {
      "cell_type": "code",
      "source": [
        "print(customers_df.describe())\n",
        "print(geolocation_df.describe())\n",
        "print(order_items_df.describe())\n",
        "print(order_payments_df.describe())\n",
        "print(order_reviews_df.describe())\n",
        "print(orders_df.describe())\n",
        "print(products_df.describe())\n",
        "print(product_translation_df.describe())\n",
        "print(sellers_df.describe())"
      ],
      "metadata": {
        "colab": {
          "base_uri": "https://localhost:8080/"
        },
        "id": "cLCWhEy33XV4",
        "outputId": "ed36b5fe-12e7-410b-f2ee-ab01457e0c2a"
      },
      "execution_count": 19,
      "outputs": [
        {
          "output_type": "stream",
          "name": "stdout",
          "text": [
            "       customer_zip_code_prefix\n",
            "count              99441.000000\n",
            "mean               35137.474583\n",
            "std                29797.938996\n",
            "min                 1003.000000\n",
            "25%                11347.000000\n",
            "50%                24416.000000\n",
            "75%                58900.000000\n",
            "max                99990.000000\n",
            "       geolocation_zip_code_prefix  geolocation_lat  geolocation_lng\n",
            "count                 1.000163e+06     1.000163e+06     1.000163e+06\n",
            "mean                  3.657417e+04    -2.117615e+01    -4.639054e+01\n",
            "std                   3.054934e+04     5.715866e+00     4.269748e+00\n",
            "min                   1.001000e+03    -3.660537e+01    -1.014668e+02\n",
            "25%                   1.107500e+04    -2.360355e+01    -4.857317e+01\n",
            "50%                   2.653000e+04    -2.291938e+01    -4.663788e+01\n",
            "75%                   6.350400e+04    -1.997962e+01    -4.376771e+01\n",
            "max                   9.999000e+04     4.506593e+01     1.211054e+02\n",
            "       order_item_id          price  freight_value\n",
            "count  112650.000000  112650.000000  112650.000000\n",
            "mean        1.197834     120.653739      19.990320\n",
            "std         0.705124     183.633928      15.806405\n",
            "min         1.000000       0.850000       0.000000\n",
            "25%         1.000000      39.900000      13.080000\n",
            "50%         1.000000      74.990000      16.260000\n",
            "75%         1.000000     134.900000      21.150000\n",
            "max        21.000000    6735.000000     409.680000\n",
            "       payment_sequential  payment_installments  payment_value\n",
            "count       103886.000000         103886.000000  103886.000000\n",
            "mean             1.092679              2.853349     154.100380\n",
            "std              0.706584              2.687051     217.494064\n",
            "min              1.000000              0.000000       0.000000\n",
            "25%              1.000000              1.000000      56.790000\n",
            "50%              1.000000              1.000000     100.000000\n",
            "75%              1.000000              4.000000     171.837500\n",
            "max             29.000000             24.000000   13664.080000\n",
            "       review_score\n",
            "count  99224.000000\n",
            "mean       4.086421\n",
            "std        1.347579\n",
            "min        1.000000\n",
            "25%        4.000000\n",
            "50%        5.000000\n",
            "75%        5.000000\n",
            "max        5.000000\n",
            "            order_purchase_timestamp  order_delivered_customer_date  \\\n",
            "count                          99441                          96476   \n",
            "mean   2017-12-31 08:43:12.776581120  2018-01-14 12:09:19.035542272   \n",
            "min              2016-09-04 21:15:19            2016-10-11 13:46:32   \n",
            "25%              2017-09-12 14:46:19  2017-09-25 22:07:22.249999872   \n",
            "50%              2018-01-18 23:04:36     2018-02-02 19:28:10.500000   \n",
            "75%              2018-05-04 15:42:16  2018-05-15 22:48:52.249999872   \n",
            "max              2018-10-17 17:30:18            2018-10-17 13:22:46   \n",
            "\n",
            "       order_estimated_delivery_date  \n",
            "count                          99441  \n",
            "mean   2018-01-24 03:08:37.730111232  \n",
            "min              2016-09-30 00:00:00  \n",
            "25%              2017-10-03 00:00:00  \n",
            "50%              2018-02-15 00:00:00  \n",
            "75%              2018-05-25 00:00:00  \n",
            "max              2018-11-12 00:00:00  \n",
            "       product_name_lenght  product_description_lenght  product_photos_qty  \\\n",
            "count         32341.000000                32341.000000        32341.000000   \n",
            "mean             48.476949                  771.495285            2.188986   \n",
            "std              10.245741                  635.115225            1.736766   \n",
            "min               5.000000                    4.000000            1.000000   \n",
            "25%              42.000000                  339.000000            1.000000   \n",
            "50%              51.000000                  595.000000            1.000000   \n",
            "75%              57.000000                  972.000000            3.000000   \n",
            "max              76.000000                 3992.000000           20.000000   \n",
            "\n",
            "       product_weight_g  product_length_cm  product_height_cm  \\\n",
            "count      32949.000000       32949.000000       32949.000000   \n",
            "mean        2276.472488          30.815078          16.937661   \n",
            "std         4282.038731          16.914458          13.637554   \n",
            "min            0.000000           7.000000           2.000000   \n",
            "25%          300.000000          18.000000           8.000000   \n",
            "50%          700.000000          25.000000          13.000000   \n",
            "75%         1900.000000          38.000000          21.000000   \n",
            "max        40425.000000         105.000000         105.000000   \n",
            "\n",
            "       product_width_cm  \n",
            "count      32949.000000  \n",
            "mean          23.196728  \n",
            "std           12.079047  \n",
            "min            6.000000  \n",
            "25%           15.000000  \n",
            "50%           20.000000  \n",
            "75%           30.000000  \n",
            "max          118.000000  \n",
            "       product_category_name product_category_name_english\n",
            "count                     71                            71\n",
            "unique                    71                            71\n",
            "top             beleza_saude                 health_beauty\n",
            "freq                       1                             1\n",
            "       seller_zip_code_prefix\n",
            "count             3095.000000\n",
            "mean             32291.059451\n",
            "std              32713.453830\n",
            "min               1001.000000\n",
            "25%               7093.500000\n",
            "50%              14940.000000\n",
            "75%              64552.500000\n",
            "max              99730.000000\n"
          ]
        }
      ]
    },
    {
      "cell_type": "markdown",
      "source": [
        "**Insight:**\n",
        "- Dari fungsi describe() maka tampil output statistik deskriptif semua dataset. berupa count, mean, std, min, Q1, Q2, Q3, dan nilai max"
      ],
      "metadata": {
        "id": "t1-F65Ti3_NZ"
      }
    },
    {
      "cell_type": "code",
      "source": [
        "# Scatterplot antara 'review_score' dan 'delivery_time'\n",
        "plt.figure(figsize=(10, 6))\n",
        "sns.scatterplot(x='review_score', y='delivery_time', data=order_reviews_clean_df, alpha=0.7)\n",
        "plt.title('Scatterplot: Skor Ulasan vs Waktu Pengiriman')\n",
        "plt.xlabel('Skor Ulasan')\n",
        "plt.ylabel('Waktu Pengiriman (hari)')\n",
        "plt.show()"
      ],
      "metadata": {
        "colab": {
          "base_uri": "https://localhost:8080/",
          "height": 564
        },
        "id": "QH9NDWW44yjx",
        "outputId": "697f43f0-b2fe-4c28-e413-5901e28880a3"
      },
      "execution_count": 25,
      "outputs": [
        {
          "output_type": "display_data",
          "data": {
            "text/plain": [
              "<Figure size 1000x600 with 1 Axes>"
            ],
            "image/png": "[encoded data removed]"
          },
          "metadata": {}
        }
      ]
    },
    {
      "cell_type": "markdown",
      "source": [
        "Secara keseluruhan, data ini tidak menunjukkan adanya korelasi linear yang kuat antara kedua variabel."
      ],
      "metadata": {
        "id": "0kVpzZKq7dWF"
      }
    },
    {
      "cell_type": "markdown",
      "source": [
        "## **Visualization & Explanatory Analysis**"
      ],
      "metadata": {
        "id": "kmnCGAEu72Q1"
      }
    },
    {
      "cell_type": "markdown",
      "source": [
        "- Apa kategori produk yang paling banyak terjual?\n",
        "- Bagaimana korelasi antara waktu pengiriman dan skor ulasan pelanggan?\n",
        "- Negara bagian atau kota mana yang memiliki volume penjualan tertinggi?"
      ],
      "metadata": {
        "id": "J6z-dBS67iEK"
      }
    },
    {
      "cell_type": "markdown",
      "source": [
        "### Pertanyaan 1 : Apa kategori produk yang paling banyak terjual?"
      ],
      "metadata": {
        "id": "BnGNVcCX8E_7"
      }
    },
    {
      "cell_type": "markdown",
      "source": [
        "Visualisasi kategori produk yang paling banyak terjual"
      ],
      "metadata": {
        "id": "wq-k_zGqwm5q"
      }
    },
    {
      "cell_type": "code",
      "source": [
        "category_sales = order_items_products_df['product_category_name_english'].value_counts().head(10)\n",
        "plt.figure(figsize=(10, 6))\n",
        "sns.barplot(x=category_sales.values, y=category_sales.index, palette=\"viridis\")\n",
        "plt.title('Top 10 Kategori Produk Paling Banyak Terjual')\n",
        "plt.xlabel('Jumlah Penjualan')\n",
        "plt.ylabel('Kategori Produk')\n",
        "plt.show()"
      ],
      "metadata": {
        "colab": {
          "base_uri": "https://localhost:8080/",
          "height": 946
        },
        "id": "Rkyf556Ewcic",
        "outputId": "4f07866c-642f-453e-8f0a-a405a7124181"
      },
      "execution_count": 16,
      "outputs": [
        {
          "output_type": "stream",
          "name": "stderr",
          "text": [
            "<ipython-input-16-39ef0c8b8691>:3: FutureWarning: \n",
            "\n",
            "Passing `palette` without assigning `hue` is deprecated and will be removed in v0.14.0. Assign the `y` variable to `hue` and set `legend=False` for the same effect.\n",
            "\n",
            "  sns.barplot(x=category_sales.values, y=category_sales.index, palette=\"viridis\")\n",
            "/usr/local/lib/python3.10/dist-packages/seaborn/_base.py:949: FutureWarning: When grouping with a length-1 list-like, you will need to pass a length-1 tuple to get_group in a future version of pandas. Pass `(name,)` instead of `name` to silence this warning.\n",
            "  data_subset = grouped_data.get_group(pd_key)\n",
            "/usr/local/lib/python3.10/dist-packages/seaborn/_base.py:949: FutureWarning: When grouping with a length-1 list-like, you will need to pass a length-1 tuple to get_group in a future version of pandas. Pass `(name,)` instead of `name` to silence this warning.\n",
            "  data_subset = grouped_data.get_group(pd_key)\n",
            "/usr/local/lib/python3.10/dist-packages/seaborn/_base.py:949: FutureWarning: When grouping with a length-1 list-like, you will need to pass a length-1 tuple to get_group in a future version of pandas. Pass `(name,)` instead of `name` to silence this warning.\n",
            "  data_subset = grouped_data.get_group(pd_key)\n",
            "/usr/local/lib/python3.10/dist-packages/seaborn/_base.py:949: FutureWarning: When grouping with a length-1 list-like, you will need to pass a length-1 tuple to get_group in a future version of pandas. Pass `(name,)` instead of `name` to silence this warning.\n",
            "  data_subset = grouped_data.get_group(pd_key)\n",
            "/usr/local/lib/python3.10/dist-packages/seaborn/_base.py:949: FutureWarning: When grouping with a length-1 list-like, you will need to pass a length-1 tuple to get_group in a future version of pandas. Pass `(name,)` instead of `name` to silence this warning.\n",
            "  data_subset = grouped_data.get_group(pd_key)\n",
            "/usr/local/lib/python3.10/dist-packages/seaborn/_base.py:949: FutureWarning: When grouping with a length-1 list-like, you will need to pass a length-1 tuple to get_group in a future version of pandas. Pass `(name,)` instead of `name` to silence this warning.\n",
            "  data_subset = grouped_data.get_group(pd_key)\n",
            "/usr/local/lib/python3.10/dist-packages/seaborn/_base.py:949: FutureWarning: When grouping with a length-1 list-like, you will need to pass a length-1 tuple to get_group in a future version of pandas. Pass `(name,)` instead of `name` to silence this warning.\n",
            "  data_subset = grouped_data.get_group(pd_key)\n",
            "/usr/local/lib/python3.10/dist-packages/seaborn/_base.py:949: FutureWarning: When grouping with a length-1 list-like, you will need to pass a length-1 tuple to get_group in a future version of pandas. Pass `(name,)` instead of `name` to silence this warning.\n",
            "  data_subset = grouped_data.get_group(pd_key)\n",
            "/usr/local/lib/python3.10/dist-packages/seaborn/_base.py:949: FutureWarning: When grouping with a length-1 list-like, you will need to pass a length-1 tuple to get_group in a future version of pandas. Pass `(name,)` instead of `name` to silence this warning.\n",
            "  data_subset = grouped_data.get_group(pd_key)\n",
            "/usr/local/lib/python3.10/dist-packages/seaborn/_base.py:949: FutureWarning: When grouping with a length-1 list-like, you will need to pass a length-1 tuple to get_group in a future version of pandas. Pass `(name,)` instead of `name` to silence this warning.\n",
            "  data_subset = grouped_data.get_group(pd_key)\n"
          ]
        },
        {
          "output_type": "display_data",
          "data": {
            "text/plain": [
              "<Figure size 1000x600 with 1 Axes>"
            ],
            "image/png": "[encoded data removed]"
          },
          "metadata": {}
        }
      ]
    },
    {
      "cell_type": "markdown",
      "source": [
        "### Pertanyaan 2 : Bagaimana korelasi antara waktu pengiriman dan skor ulasan pelanggan?"
      ],
      "metadata": {
        "id": "DMoAiGdr8dlN"
      }
    },
    {
      "cell_type": "markdown",
      "source": [
        "Visualisasi korelasi antara review score dan waktu pengiriman"
      ],
      "metadata": {
        "id": "AO7ReFHlwpjf"
      }
    },
    {
      "cell_type": "code",
      "source": [
        "plt.figure(figsize=(10, 6))\n",
        "sns.boxplot(x='review_score', y='delivery_time', data=order_reviews_clean_df, palette=\"coolwarm\")\n",
        "plt.title('Korelasi Antara Skor Ulasan dan Waktu Pengiriman')\n",
        "plt.xlabel('Skor Ulasan')\n",
        "plt.ylabel('Waktu Pengiriman (hari)')\n",
        "plt.show()"
      ],
      "metadata": {
        "colab": {
          "base_uri": "https://localhost:8080/",
          "height": 1000
        },
        "id": "Dsntsr25wvaE",
        "outputId": "77888a7f-dc61-413d-b755-a5643b04c142"
      },
      "execution_count": 17,
      "outputs": [
        {
          "output_type": "stream",
          "name": "stderr",
          "text": [
            "<ipython-input-17-1e1a489cb854>:2: FutureWarning: \n",
            "\n",
            "Passing `palette` without assigning `hue` is deprecated and will be removed in v0.14.0. Assign the `x` variable to `hue` and set `legend=False` for the same effect.\n",
            "\n",
            "  sns.boxplot(x='review_score', y='delivery_time', data=order_reviews_clean_df, palette=\"coolwarm\")\n",
            "/usr/local/lib/python3.10/dist-packages/seaborn/_base.py:949: FutureWarning: When grouping with a length-1 list-like, you will need to pass a length-1 tuple to get_group in a future version of pandas. Pass `(name,)` instead of `name` to silence this warning.\n",
            "  data_subset = grouped_data.get_group(pd_key)\n",
            "/usr/local/lib/python3.10/dist-packages/seaborn/categorical.py:640: FutureWarning: SeriesGroupBy.grouper is deprecated and will be removed in a future version of pandas.\n",
            "  positions = grouped.grouper.result_index.to_numpy(dtype=float)\n",
            "/usr/local/lib/python3.10/dist-packages/seaborn/_base.py:949: FutureWarning: When grouping with a length-1 list-like, you will need to pass a length-1 tuple to get_group in a future version of pandas. Pass `(name,)` instead of `name` to silence this warning.\n",
            "  data_subset = grouped_data.get_group(pd_key)\n",
            "/usr/local/lib/python3.10/dist-packages/seaborn/categorical.py:640: FutureWarning: SeriesGroupBy.grouper is deprecated and will be removed in a future version of pandas.\n",
            "  positions = grouped.grouper.result_index.to_numpy(dtype=float)\n",
            "/usr/local/lib/python3.10/dist-packages/seaborn/_base.py:949: FutureWarning: When grouping with a length-1 list-like, you will need to pass a length-1 tuple to get_group in a future version of pandas. Pass `(name,)` instead of `name` to silence this warning.\n",
            "  data_subset = grouped_data.get_group(pd_key)\n",
            "/usr/local/lib/python3.10/dist-packages/seaborn/categorical.py:640: FutureWarning: SeriesGroupBy.grouper is deprecated and will be removed in a future version of pandas.\n",
            "  positions = grouped.grouper.result_index.to_numpy(dtype=float)\n",
            "/usr/local/lib/python3.10/dist-packages/seaborn/_base.py:949: FutureWarning: When grouping with a length-1 list-like, you will need to pass a length-1 tuple to get_group in a future version of pandas. Pass `(name,)` instead of `name` to silence this warning.\n",
            "  data_subset = grouped_data.get_group(pd_key)\n",
            "/usr/local/lib/python3.10/dist-packages/seaborn/categorical.py:640: FutureWarning: SeriesGroupBy.grouper is deprecated and will be removed in a future version of pandas.\n",
            "  positions = grouped.grouper.result_index.to_numpy(dtype=float)\n",
            "/usr/local/lib/python3.10/dist-packages/seaborn/_base.py:949: FutureWarning: When grouping with a length-1 list-like, you will need to pass a length-1 tuple to get_group in a future version of pandas. Pass `(name,)` instead of `name` to silence this warning.\n",
            "  data_subset = grouped_data.get_group(pd_key)\n",
            "/usr/local/lib/python3.10/dist-packages/seaborn/categorical.py:640: FutureWarning: SeriesGroupBy.grouper is deprecated and will be removed in a future version of pandas.\n",
            "  positions = grouped.grouper.result_index.to_numpy(dtype=float)\n"
          ]
        },
        {
          "output_type": "display_data",
          "data": {
            "text/plain": [
              "<Figure size 1000x600 with 1 Axes>"
            ],
            "image/png": "[encoded data removed]"
          },
          "metadata": {}
        }
      ]
    },
    {
      "cell_type": "markdown",
      "source": [
        "### Pertanyaan 3 : Negara bagian atau kota mana yang memiliki volume penjualan tertinggi?"
      ],
      "metadata": {
        "id": "Rxz9Lp7y8vKA"
      }
    },
    {
      "cell_type": "markdown",
      "source": [
        "Visualisasi jumlah penjualan berdasarkan negara bagian"
      ],
      "metadata": {
        "id": "nuDP7cQlwxVZ"
      }
    },
    {
      "cell_type": "code",
      "source": [
        "state_sales = orders_items_geo_df['customer_state'].value_counts()\n",
        "\n",
        "plt.figure(figsize=(12, 8))\n",
        "sns.barplot(x=state_sales.index, y=state_sales.values, palette=\"Set2\")\n",
        "plt.title('Distribusi Penjualan Berdasarkan Negara Bagian')\n",
        "plt.xlabel('Negara Bagian')\n",
        "plt.ylabel('Jumlah Penjualan')\n",
        "plt.xticks(rotation=45)\n",
        "plt.show()"
      ],
      "metadata": {
        "colab": {
          "base_uri": "https://localhost:8080/",
          "height": 1000
        },
        "id": "E4yU3U_rw14-",
        "outputId": "c2ba55fe-8bd4-4792-fb55-2fb7e08860eb"
      },
      "execution_count": 18,
      "outputs": [
        {
          "output_type": "stream",
          "name": "stderr",
          "text": [
            "<ipython-input-18-45dc08410d67>:4: FutureWarning: \n",
            "\n",
            "Passing `palette` without assigning `hue` is deprecated and will be removed in v0.14.0. Assign the `x` variable to `hue` and set `legend=False` for the same effect.\n",
            "\n",
            "  sns.barplot(x=state_sales.index, y=state_sales.values, palette=\"Set2\")\n",
            "/usr/local/lib/python3.10/dist-packages/seaborn/_base.py:949: FutureWarning: When grouping with a length-1 list-like, you will need to pass a length-1 tuple to get_group in a future version of pandas. Pass `(name,)` instead of `name` to silence this warning.\n",
            "  data_subset = grouped_data.get_group(pd_key)\n",
            "/usr/local/lib/python3.10/dist-packages/seaborn/_base.py:949: FutureWarning: When grouping with a length-1 list-like, you will need to pass a length-1 tuple to get_group in a future version of pandas. Pass `(name,)` instead of `name` to silence this warning.\n",
            "  data_subset = grouped_data.get_group(pd_key)\n",
            "/usr/local/lib/python3.10/dist-packages/seaborn/_base.py:949: FutureWarning: When grouping with a length-1 list-like, you will need to pass a length-1 tuple to get_group in a future version of pandas. Pass `(name,)` instead of `name` to silence this warning.\n",
            "  data_subset = grouped_data.get_group(pd_key)\n",
            "/usr/local/lib/python3.10/dist-packages/seaborn/_base.py:949: FutureWarning: When grouping with a length-1 list-like, you will need to pass a length-1 tuple to get_group in a future version of pandas. Pass `(name,)` instead of `name` to silence this warning.\n",
            "  data_subset = grouped_data.get_group(pd_key)\n",
            "/usr/local/lib/python3.10/dist-packages/seaborn/_base.py:949: FutureWarning: When grouping with a length-1 list-like, you will need to pass a length-1 tuple to get_group in a future version of pandas. Pass `(name,)` instead of `name` to silence this warning.\n",
            "  data_subset = grouped_data.get_group(pd_key)\n",
            "/usr/local/lib/python3.10/dist-packages/seaborn/_base.py:949: FutureWarning: When grouping with a length-1 list-like, you will need to pass a length-1 tuple to get_group in a future version of pandas. Pass `(name,)` instead of `name` to silence this warning.\n",
            "  data_subset = grouped_data.get_group(pd_key)\n",
            "/usr/local/lib/python3.10/dist-packages/seaborn/_base.py:949: FutureWarning: When grouping with a length-1 list-like, you will need to pass a length-1 tuple to get_group in a future version of pandas. Pass `(name,)` instead of `name` to silence this warning.\n",
            "  data_subset = grouped_data.get_group(pd_key)\n",
            "/usr/local/lib/python3.10/dist-packages/seaborn/_base.py:949: FutureWarning: When grouping with a length-1 list-like, you will need to pass a length-1 tuple to get_group in a future version of pandas. Pass `(name,)` instead of `name` to silence this warning.\n",
            "  data_subset = grouped_data.get_group(pd_key)\n",
            "/usr/local/lib/python3.10/dist-packages/seaborn/_base.py:949: FutureWarning: When grouping with a length-1 list-like, you will need to pass a length-1 tuple to get_group in a future version of pandas. Pass `(name,)` instead of `name` to silence this warning.\n",
            "  data_subset = grouped_data.get_group(pd_key)\n",
            "/usr/local/lib/python3.10/dist-packages/seaborn/_base.py:949: FutureWarning: When grouping with a length-1 list-like, you will need to pass a length-1 tuple to get_group in a future version of pandas. Pass `(name,)` instead of `name` to silence this warning.\n",
            "  data_subset = grouped_data.get_group(pd_key)\n",
            "/usr/local/lib/python3.10/dist-packages/seaborn/_base.py:949: FutureWarning: When grouping with a length-1 list-like, you will need to pass a length-1 tuple to get_group in a future version of pandas. Pass `(name,)` instead of `name` to silence this warning.\n",
            "  data_subset = grouped_data.get_group(pd_key)\n",
            "/usr/local/lib/python3.10/dist-packages/seaborn/_base.py:949: FutureWarning: When grouping with a length-1 list-like, you will need to pass a length-1 tuple to get_group in a future version of pandas. Pass `(name,)` instead of `name` to silence this warning.\n",
            "  data_subset = grouped_data.get_group(pd_key)\n",
            "/usr/local/lib/python3.10/dist-packages/seaborn/_base.py:949: FutureWarning: When grouping with a length-1 list-like, you will need to pass a length-1 tuple to get_group in a future version of pandas. Pass `(name,)` instead of `name` to silence this warning.\n",
            "  data_subset = grouped_data.get_group(pd_key)\n",
            "/usr/local/lib/python3.10/dist-packages/seaborn/_base.py:949: FutureWarning: When grouping with a length-1 list-like, you will need to pass a length-1 tuple to get_group in a future version of pandas. Pass `(name,)` instead of `name` to silence this warning.\n",
            "  data_subset = grouped_data.get_group(pd_key)\n",
            "/usr/local/lib/python3.10/dist-packages/seaborn/_base.py:949: FutureWarning: When grouping with a length-1 list-like, you will need to pass a length-1 tuple to get_group in a future version of pandas. Pass `(name,)` instead of `name` to silence this warning.\n",
            "  data_subset = grouped_data.get_group(pd_key)\n",
            "/usr/local/lib/python3.10/dist-packages/seaborn/_base.py:949: FutureWarning: When grouping with a length-1 list-like, you will need to pass a length-1 tuple to get_group in a future version of pandas. Pass `(name,)` instead of `name` to silence this warning.\n",
            "  data_subset = grouped_data.get_group(pd_key)\n",
            "/usr/local/lib/python3.10/dist-packages/seaborn/_base.py:949: FutureWarning: When grouping with a length-1 list-like, you will need to pass a length-1 tuple to get_group in a future version of pandas. Pass `(name,)` instead of `name` to silence this warning.\n",
            "  data_subset = grouped_data.get_group(pd_key)\n",
            "/usr/local/lib/python3.10/dist-packages/seaborn/_base.py:949: FutureWarning: When grouping with a length-1 list-like, you will need to pass a length-1 tuple to get_group in a future version of pandas. Pass `(name,)` instead of `name` to silence this warning.\n",
            "  data_subset = grouped_data.get_group(pd_key)\n",
            "/usr/local/lib/python3.10/dist-packages/seaborn/_base.py:949: FutureWarning: When grouping with a length-1 list-like, you will need to pass a length-1 tuple to get_group in a future version of pandas. Pass `(name,)` instead of `name` to silence this warning.\n",
            "  data_subset = grouped_data.get_group(pd_key)\n",
            "/usr/local/lib/python3.10/dist-packages/seaborn/_base.py:949: FutureWarning: When grouping with a length-1 list-like, you will need to pass a length-1 tuple to get_group in a future version of pandas. Pass `(name,)` instead of `name` to silence this warning.\n",
            "  data_subset = grouped_data.get_group(pd_key)\n",
            "/usr/local/lib/python3.10/dist-packages/seaborn/_base.py:949: FutureWarning: When grouping with a length-1 list-like, you will need to pass a length-1 tuple to get_group in a future version of pandas. Pass `(name,)` instead of `name` to silence this warning.\n",
            "  data_subset = grouped_data.get_group(pd_key)\n",
            "/usr/local/lib/python3.10/dist-packages/seaborn/_base.py:949: FutureWarning: When grouping with a length-1 list-like, you will need to pass a length-1 tuple to get_group in a future version of pandas. Pass `(name,)` instead of `name` to silence this warning.\n",
            "  data_subset = grouped_data.get_group(pd_key)\n",
            "/usr/local/lib/python3.10/dist-packages/seaborn/_base.py:949: FutureWarning: When grouping with a length-1 list-like, you will need to pass a length-1 tuple to get_group in a future version of pandas. Pass `(name,)` instead of `name` to silence this warning.\n",
            "  data_subset = grouped_data.get_group(pd_key)\n",
            "/usr/local/lib/python3.10/dist-packages/seaborn/_base.py:949: FutureWarning: When grouping with a length-1 list-like, you will need to pass a length-1 tuple to get_group in a future version of pandas. Pass `(name,)` instead of `name` to silence this warning.\n",
            "  data_subset = grouped_data.get_group(pd_key)\n",
            "/usr/local/lib/python3.10/dist-packages/seaborn/_base.py:949: FutureWarning: When grouping with a length-1 list-like, you will need to pass a length-1 tuple to get_group in a future version of pandas. Pass `(name,)` instead of `name` to silence this warning.\n",
            "  data_subset = grouped_data.get_group(pd_key)\n",
            "/usr/local/lib/python3.10/dist-packages/seaborn/_base.py:949: FutureWarning: When grouping with a length-1 list-like, you will need to pass a length-1 tuple to get_group in a future version of pandas. Pass `(name,)` instead of `name` to silence this warning.\n",
            "  data_subset = grouped_data.get_group(pd_key)\n",
            "/usr/local/lib/python3.10/dist-packages/seaborn/_base.py:949: FutureWarning: When grouping with a length-1 list-like, you will need to pass a length-1 tuple to get_group in a future version of pandas. Pass `(name,)` instead of `name` to silence this warning.\n",
            "  data_subset = grouped_data.get_group(pd_key)\n"
          ]
        },
        {
          "output_type": "display_data",
          "data": {
            "text/plain": [
              "<Figure size 1200x800 with 1 Axes>"
            ],
            "image/png": "[encoded data removed]"
          },
          "metadata": {}
        }
      ]
    },
    {
      "cell_type": "markdown",
      "metadata": {
        "id": "MW7WF2kr8DC1"
      },
      "source": [
        "### **Conclusion**"
      ]
    },
    {
      "cell_type": "markdown",
      "source": [
        "- Berdasarkan Kategori Produk Paling Banyak Terjual adalah bed_bath_table dan paling sedikit adalah auto\n",
        "- Dari grafik, terlihat bahwa semakin rendah skor ulasan (1 dan 2), waktu pengiriman cenderung lebih lama, dengan median yang lebih tinggi. Sebaliknya, skor ulasan yang lebih tinggi (4 dan 5) memiliki waktu pengiriman yang lebih cepat. Ini menunjukkan bahwa pengiriman yang lebih lama dapat berkontribusi terhadap ulasan yang buruk.\n",
        "- Grafik menunjukkan bahwa penjualan e-commerce sangat didominasi oleh São Paulo (SP), dengan jumlah penjualan jauh lebih tinggi dibandingkan negara bagian lainnya. Rio de Janeiro (RJ) dan Minas Gerais (MG) berada di posisi kedua dan ketiga, namun dengan angka penjualan yang jauh lebih rendah. Sebagian besar negara bagian lainnya memiliki kontribusi penjualan yang kecil."
      ],
      "metadata": {
        "id": "th_Lzl2Fkj9O"
      }
    },
    {
      "cell_type": "markdown",
      "source": [
        "### **Data untuk dashboard**"
      ],
      "metadata": {
        "id": "KUFWTfHu9K1r"
      }
    },
    {
      "cell_type": "code",
      "source": [
        "# Menggabungkan order_items_products_df dan order_reviews_clean_df berdasarkan ID yang relevan\n",
        "main_data = order_items_products_df.merge(order_reviews_clean_df, on='order_id', how='left')\n",
        "\n",
        "# Menyimpan data akhir ke file CSV\n",
        "main_data.to_csv('/content/main_data.csv', index=False)"
      ],
      "metadata": {
        "id": "I-ghxwSV9MYm"
      },
      "execution_count": 27,
      "outputs": []
    }
  ],
  "metadata": {
    "kernelspec": {
      "display_name": "Python 3",
      "language": "python",
      "name": "python3"
    },
    "language_info": {
      "name": "python",
      "version": "3.8.0 (tags/v3.8.0:fa919fd, Oct 14 2019, 19:21:23) [MSC v.1916 32 bit (Intel)]"
    },
    "orig_nbformat": 4,
    "vscode": {
      "interpreter": {
        "hash": "972b3bf27e332e87b5379f2791f6ef9dfc79c71018c370b0d7423235e20fe4d7"
      }
    },
    "colab": {
      "provenance": []
    }
  },
  "nbformat": 4,
  "nbformat_minor": 0
}